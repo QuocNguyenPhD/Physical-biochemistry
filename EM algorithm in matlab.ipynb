{
 "cells": [
  {
   "cell_type": "markdown",
   "id": "56d50974",
   "metadata": {},
   "source": [
    "# EM algorishm for Gaussian mixture model\n",
    "\n",
    "## Fit multimixture model\n",
    "\n",
    "\n",
    "$P(X|\\pi_i,\\mu_i,\\sigma_i)=\\displaystyle \\prod_{j=1}^{k}\\frac{1}{\\sigma_i*\\sqrt{2*\\pi}}*e^{\\frac{-1}{2}(\\frac{x_j-\\mu_i}{\\sigma_1})^2}$\n",
    "\n",
    "GM algorishm for unlabel data is mean to estimate $\\pi_i, \\mu_i, \\sigma_i$ given data\n",
    "\n",
    "$P(\\pi_i, \\mu_i, \\sigma_i| X)= \\frac{P(X|\\pi_i, \\mu_i, \\sigma_i)*P(\\pi_i, \\mu_i, \\sigma_i)}{P(X)}$\n",
    "$= \\frac{\\pi_i*\\displaystyle \\prod_{j=1}^{k}\\frac{1}{\\sigma_i*\\sqrt{2*\\pi}}*e^{\\frac{-1}{2}(\\frac{x_j-\\mu_i}{\\sigma_1})^2}}{\\displaystyle \\sum _{l=1}^n P(X| \\pi_l, \\mu_l, \\sigma_l )}$\n",
    "\n",
    "objective is to maximized $P(\\pi_i, \\mu_i, \\sigma_i| X)$\n",
    "\n",
    "### Goal\n",
    "Assign soft clustering for the data by estimate $\\pi_i, \\mu_i, \\sigma_i$\n",
    "\n",
    "### drawback\n",
    "heavily dependent on the initial assigment for $\\pi_i, \\mu_i, \\sigma_i$. Meaning for a random initial assigment, the clustering might give different result.\n"
   ]
  }
 ],
 "metadata": {
  "kernelspec": {
   "display_name": "Python 3 (ipykernel)",
   "language": "python",
   "name": "python3"
  },
  "language_info": {
   "codemirror_mode": {
    "name": "ipython",
    "version": 3
   },
   "file_extension": ".py",
   "mimetype": "text/x-python",
   "name": "python",
   "nbconvert_exporter": "python",
   "pygments_lexer": "ipython3",
   "version": "3.9.7"
  }
 },
 "nbformat": 4,
 "nbformat_minor": 5
}
